{
 "cells": [
  {
   "cell_type": "markdown",
   "metadata": {},
   "source": [
    "https://jsonplaceholder.typicode.com/todos\n",
    "From the above API URL, you have to request and load the JSON data.\n",
    "The json contains\n",
    "1. User id - which indicates one user\n",
    "2. ID - task id\n",
    "3. Title - task title\n",
    "4. Completed - completed or not completed\n",
    "QUESTIONS\n",
    "Write a script encode and decode the json\n",
    "Find the number of users\n",
    "Find number of tasks for each users\n",
    "Find the number of completed and incomplete tasks for each users and rank them"
   ]
  },
  {
   "cell_type": "code",
   "execution_count": 3,
   "metadata": {},
   "outputs": [
    {
     "name": "stdout",
     "output_type": "stream",
     "text": [
      "<Response [200]>\n"
     ]
    }
   ],
   "source": [
    "import requests\n",
    "import json\n",
    "url=\"https://jsonplaceholder.typicode.com/todos\"\n",
    "res=requests.get(url)\n",
    "data=json.load(res.text)\n",
    "\n"
   ]
  },
  {
   "cell_type": "code",
   "execution_count": 20,
   "metadata": {},
   "outputs": [
    {
     "data": {
      "text/plain": [
       "200"
      ]
     },
     "execution_count": 20,
     "metadata": {},
     "output_type": "execute_result"
    }
   ],
   "source": [
    "#encoding json\n",
    "encode_json=json.dumps(data)\n",
    "#decoding data\n",
    "decode=json.loads(encode_json)\n"
   ]
  },
  {
   "cell_type": "code",
   "execution_count": 15,
   "metadata": {},
   "outputs": [
    {
     "name": "stdout",
     "output_type": "stream",
     "text": [
      "number of users are 10\n"
     ]
    }
   ],
   "source": [
    "#Find the number of users\n",
    "# print(data)\n",
    "users=set()\n",
    "for i in data:\n",
    "    if i[\"userId\"] not in users:\n",
    "        users.add(i[\"userId\"])\n",
    "num_of_users=len(users)\n",
    "print(\"number of users are\",num_of_users)"
   ]
  },
  {
   "cell_type": "code",
   "execution_count": 19,
   "metadata": {},
   "outputs": [
    {
     "data": {
      "text/plain": [
       "{1: 20, 2: 20, 3: 20, 4: 20, 5: 20, 6: 20, 7: 20, 8: 20, 9: 20, 10: 20}"
      ]
     },
     "execution_count": 19,
     "metadata": {},
     "output_type": "execute_result"
    }
   ],
   "source": [
    "#no of task per user\n",
    "task_per_user={}\n",
    "for user in users:\n",
    "    task_per_user[user]=0\n",
    "    for log in data:\n",
    "        if log[\"userId\"]==user:\n",
    "            task_per_user[log[\"userId\"]]+=1\n",
    "        \n",
    "for i in task_per_user:\n",
    "    print(\"no of tasks for userId\",i,\"is\",)\n"
   ]
  },
  {
   "cell_type": "code",
   "execution_count": 23,
   "metadata": {},
   "outputs": [
    {
     "name": "stdout",
     "output_type": "stream",
     "text": [
      "userID 1 Completed task = 11 Incompleted task = 9\n",
      "userID 2 Completed task = 8 Incompleted task = 12\n",
      "userID 3 Completed task = 7 Incompleted task = 13\n",
      "userID 4 Completed task = 6 Incompleted task = 14\n",
      "userID 5 Completed task = 12 Incompleted task = 8\n",
      "userID 6 Completed task = 6 Incompleted task = 14\n",
      "userID 7 Completed task = 9 Incompleted task = 11\n",
      "userID 8 Completed task = 11 Incompleted task = 9\n",
      "userID 9 Completed task = 8 Incompleted task = 12\n",
      "userID 10 Completed task = 12 Incompleted task = 8\n"
     ]
    }
   ],
   "source": [
    "completed_task={}\n",
    "incomplete_task={} \n",
    "\n",
    "for user in users:\n",
    "    completed_task[user]=0\n",
    "    for log in data:\n",
    "        if log[\"userId\"]==user and log[\"completed\"]:\n",
    "            completed_task[user]+=1\n",
    "    incomplete_task[user]=task_per_user[user]-completed_task[user]\n",
    "    print(\"userID\",user,\"Completed task =\",completed_task[user],\"Incompleted task =\",incomplete_task[user])\n"
   ]
  }
 ],
 "metadata": {
  "kernelspec": {
   "display_name": "Python 3",
   "language": "python",
   "name": "python3"
  },
  "language_info": {
   "codemirror_mode": {
    "name": "ipython",
    "version": 3
   },
   "file_extension": ".py",
   "mimetype": "text/x-python",
   "name": "python",
   "nbconvert_exporter": "python",
   "pygments_lexer": "ipython3",
   "version": "3.10.7"
  },
  "orig_nbformat": 4
 },
 "nbformat": 4,
 "nbformat_minor": 2
}
