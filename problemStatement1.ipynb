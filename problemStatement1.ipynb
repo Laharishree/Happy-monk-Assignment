{
 "cells": [
  {
   "cell_type": "markdown",
   "metadata": {},
   "source": [
    "PROBLEM STATEMENT 1\n",
    "Results.json contains information about videos.\n",
    "Each video contains many frames(with consecutive order\n",
    "Each frame contains information like\n",
    "1. Person count\n",
    "2. Vehicle count\n",
    "3. Frame time\n",
    "4. id\n",
    "5. Face data\n",
    "Face data in each frame explains the information about persons who got detected.\n",
    "Each person belongs to a category.\n",
    "QUESTIONS\n",
    "Read and load the results.json using python scripts.\n",
    "Write a script encode and decode the json\n",
    "Find the total number of videos in json.\n",
    "Find how many frames are there for each video and Find the missing frame in each video(if any).\n",
    "Find the maximum number of vehicles in each video.\n",
    "Find the maximum number of people in each video.\n",
    "Find the number of categories of people and list the categories.\n",
    "Find the people belonging to each categor"
   ]
  },
  {
   "cell_type": "code",
   "execution_count": 3,
   "metadata": {},
   "outputs": [],
   "source": [
    "import json \n",
    "with open(\"results (1) (2).json\") as jsonFile:\n",
    "    data=json.load(jsonFile)"
   ]
  },
  {
   "cell_type": "code",
   "execution_count": 4,
   "metadata": {},
   "outputs": [
    {
     "name": "stdout",
     "output_type": "stream",
     "text": [
      "total number of videos in json 4\n"
     ]
    }
   ],
   "source": [
    "no_of_videos=len(data)\n",
    "print(\"total number of videos in json\",no_of_videos)"
   ]
  },
  {
   "cell_type": "code",
   "execution_count": 5,
   "metadata": {},
   "outputs": [
    {
     "name": "stdout",
     "output_type": "stream",
     "text": [
      "No of frame in 36 is 2\n",
      "1 is missing in frames\n",
      "No of frame in 18 is 2\n",
      "No of frame in 8 is 1\n",
      "No of frame in 1 is 1\n"
     ]
    }
   ],
   "source": [
    "for vid in data:\n",
    "    no_of_frames=len(vid)\n",
    "    print(\"No of frame in\",vid,\"is\",no_of_frames)\n",
    "    for i in range(1,no_of_frames):\n",
    "        if str(i) not in vid:\n",
    "            print(i,\"is missing in frames\")"
   ]
  },
  {
   "cell_type": "code",
   "execution_count": 6,
   "metadata": {},
   "outputs": [
    {
     "ename": "TypeError",
     "evalue": "string indices must be integers",
     "output_type": "error",
     "traceback": [
      "\u001b[1;31m---------------------------------------------------------------------------\u001b[0m",
      "\u001b[1;31mTypeError\u001b[0m                                 Traceback (most recent call last)",
      "Cell \u001b[1;32mIn[6], line 3\u001b[0m\n\u001b[0;32m      1\u001b[0m \u001b[39m#maximum number of vehicle per video\u001b[39;00m\n\u001b[0;32m      2\u001b[0m \u001b[39mfor\u001b[39;00m video \u001b[39min\u001b[39;00m data:\n\u001b[1;32m----> 3\u001b[0m     video_id \u001b[39m=\u001b[39m video[\u001b[39m'\u001b[39;49m\u001b[39mid\u001b[39;49m\u001b[39m'\u001b[39;49m]\n\u001b[0;32m      4\u001b[0m     frames \u001b[39m=\u001b[39m video[\u001b[39m'\u001b[39m\u001b[39mframes\u001b[39m\u001b[39m'\u001b[39m]\n\u001b[0;32m      5\u001b[0m     num_frames \u001b[39m=\u001b[39m \u001b[39mlen\u001b[39m(frames)\n",
      "\u001b[1;31mTypeError\u001b[0m: string indices must be integers"
     ]
    }
   ],
   "source": [
    "#maximum number of vehicle per video\n",
    "for video in data:\n",
    "    video_id = video['id']\n",
    "    frames = video['frames']\n",
    "    num_frames = len(frames)\n",
    "    \n",
    "    # Finding missing frames\n",
    "    all_frame_numbers = set(range(1, num_frames + 1))\n",
    "    existing_frame_numbers = set(frame['frame_number'] for frame in frames)\n",
    "    missing_frames = all_frame_numbers - existing_frame_numbers\n",
    "    \n",
    "    print(f\"Video {video_id}: {num_frames} frames, Missing frames: {missing_frames}\")\n",
    "\n"
   ]
  }
 ],
 "metadata": {
  "kernelspec": {
   "display_name": "Python 3",
   "language": "python",
   "name": "python3"
  },
  "language_info": {
   "codemirror_mode": {
    "name": "ipython",
    "version": 3
   },
   "file_extension": ".py",
   "mimetype": "text/x-python",
   "name": "python",
   "nbconvert_exporter": "python",
   "pygments_lexer": "ipython3",
   "version": "3.10.7"
  },
  "orig_nbformat": 4
 },
 "nbformat": 4,
 "nbformat_minor": 2
}
