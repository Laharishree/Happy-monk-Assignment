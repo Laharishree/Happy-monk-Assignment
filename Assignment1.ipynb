{
 "cells": [
  {
   "cell_type": "markdown",
   "metadata": {},
   "source": [
    "<h3>1. Write a program in Python to find the sum of digits of a number using recursion?\n",
    "</h3>"
   ]
  },
  {
   "cell_type": "code",
   "execution_count": 2,
   "metadata": {},
   "outputs": [
    {
     "name": "stdout",
     "output_type": "stream",
     "text": [
      "Sum of digits is  15\n"
     ]
    }
   ],
   "source": [
    "def Sum_Of_Digit(n):\n",
    "    if n==0:\n",
    "        return 0\n",
    "    return (n%10+Sum_Of_Digit(n//10))\n",
    "n=int(input(\"ENter the number\"))\n",
    "print(\"Sum of digits is \",Sum_Of_Digit(n))"
   ]
  },
  {
   "cell_type": "markdown",
   "metadata": {},
   "source": [
    "<h3>2. Write a program in Python to swap two numbers without using a third variable?\n",
    "</h3>"
   ]
  },
  {
   "cell_type": "code",
   "execution_count": 3,
   "metadata": {},
   "outputs": [
    {
     "name": "stdout",
     "output_type": "stream",
     "text": [
      "a= 2\n",
      "b= 1\n"
     ]
    }
   ],
   "source": [
    "def swap_num(a,b):\n",
    "    a,b=b,a\n",
    "    print(\"a=\",a)\n",
    "    print(\"b=\",b)\n",
    "a=int(input(\"enter value of a\"))\n",
    "b=int(input(\"enter value of b\"))\n",
    "swap_num(a,b)"
   ]
  },
  {
   "cell_type": "markdown",
   "metadata": {},
   "source": [
    "<h3>3. Python Program to count occurrences of a character in below string and create a dictionary with keys as\n",
    "letters and values as count of occurrences of that letter</h3>"
   ]
  },
  {
   "cell_type": "code",
   "execution_count": 6,
   "metadata": {},
   "outputs": [
    {
     "data": {
      "text/plain": [
       "{'n': 2,\n",
       " '9': 1,\n",
       " 's': 7,\n",
       " 'k': 3,\n",
       " 'd': 3,\n",
       " 'O': 1,\n",
       " '5': 4,\n",
       " 'j': 2,\n",
       " '7': 4,\n",
       " '4': 1,\n",
       " 'W': 8,\n",
       " 'v': 1,\n",
       " 'F': 6,\n",
       " 'E': 3,\n",
       " 'G': 3,\n",
       " 'l': 4,\n",
       " 'D': 3,\n",
       " 'K': 2,\n",
       " 'J': 3,\n",
       " 'R': 2,\n",
       " 'H': 2,\n",
       " 'T': 1,\n",
       " 'u': 1,\n",
       " 'g': 1,\n",
       " '3': 1,\n",
       " 'B': 3,\n",
       " 'b': 4,\n",
       " 'a': 1,\n",
       " 'f': 8,\n",
       " 'U': 3,\n",
       " 't': 3,\n",
       " 'i': 2,\n",
       " 'h': 8,\n",
       " 'r': 1,\n",
       " 'I': 1,\n",
       " 'V': 1,\n",
       " 'w': 1,\n",
       " 'Y': 1,\n",
       " '8': 1}"
      ]
     },
     "execution_count": 6,
     "metadata": {},
     "output_type": "execute_result"
    }
   ],
   "source": [
    "string='fhdflshbfslkhfbslkfbhslfjhbsdvsJKBEFWEGWUYRTWGRUWOFWGEUIFBWDFWDBFHWJDVFHJKasdwtuknfiitngjt75378595hf75hr74h'\n",
    "d={}\n",
    "set_of_string=set(string)\n",
    "for i in set_of_string:\n",
    "    d[i]=string.count(i)\n",
    "print(d)\n"
   ]
  },
  {
   "cell_type": "markdown",
   "metadata": {},
   "source": [
    "<h3>4. Write a python program to find the transpose of an image without any inbuilt functions or packages.\n",
    "</h3>"
   ]
  },
  {
   "cell_type": "code",
   "execution_count": null,
   "metadata": {},
   "outputs": [],
   "source": []
  },
  {
   "cell_type": "markdown",
   "metadata": {},
   "source": [
    "<h3>https://www.hackerrank.com/challenges/list-comprehensions/problem?isFullScreen=true</h3>"
   ]
  },
  {
   "cell_type": "code",
   "execution_count": 3,
   "metadata": {},
   "outputs": [
    {
     "name": "stdout",
     "output_type": "stream",
     "text": [
      "[[0, 0, 0], [0, 0, 1], [0, 1, 0], [0, 1, 2], [0, 2, 1], [0, 2, 2], [1, 0, 0], [1, 0, 2], [1, 1, 1], [1, 1, 2], [1, 2, 0], [1, 2, 1], [1, 2, 2], [2, 0, 1], [2, 0, 2], [2, 1, 0], [2, 1, 1], [2, 1, 2], [2, 2, 0], [2, 2, 1], [2, 2, 2]]\n"
     ]
    }
   ],
   "source": [
    "x=int(input(\"enter x value\"))\n",
    "y=int(input(\"enter y value\"))\n",
    "z=int(input(\"enter z value\"))\n",
    "n=int(input(\"enter n value\"))\n",
    "cuboid=[[i,j,k]for i in range(x+1)for j in range(y+1)for k in range(z+1) if i+j+k!=n]\n",
    "print(cuboid)"
   ]
  },
  {
   "cell_type": "markdown",
   "metadata": {},
   "source": [
    "<h3>6. variable=[\"Bus\", \"car\", {\"Bus\":[\"car\", \"bus\", {\"car\":\"bus\", \"Car\":[\"bus\", \"car\", [\"BMW\"]],\n",
    "},\"Bus\"]},\"Bus\"]\n",
    "print BMW as a string output\n",
    "</h3>"
   ]
  },
  {
   "cell_type": "code",
   "execution_count": 9,
   "metadata": {},
   "outputs": [
    {
     "data": {
      "text/plain": [
       "'BMW'"
      ]
     },
     "execution_count": 9,
     "metadata": {},
     "output_type": "execute_result"
    }
   ],
   "source": [
    "variable=[\"Bus\", \"car\", {\"Bus\":[\"car\", \"bus\", {\"car\":\"bus\", \"Car\":[\"bus\", \"car\", [\"BMW\"]],\n",
    "},\"Bus\"]},\"Bus\"]\n",
    "variable[2][\"Bus\"][2][\"Car\"][2][0]"
   ]
  }
 ],
 "metadata": {
  "kernelspec": {
   "display_name": "Python 3",
   "language": "python",
   "name": "python3"
  },
  "language_info": {
   "codemirror_mode": {
    "name": "ipython",
    "version": 3
   },
   "file_extension": ".py",
   "mimetype": "text/x-python",
   "name": "python",
   "nbconvert_exporter": "python",
   "pygments_lexer": "ipython3",
   "version": "3.10.7"
  },
  "orig_nbformat": 4
 },
 "nbformat": 4,
 "nbformat_minor": 2
}
